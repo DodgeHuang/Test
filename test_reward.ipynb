{
 "cells": [
  {
   "metadata": {
    "ExecuteTime": {
     "end_time": "2025-01-15T06:02:07.354010Z",
     "start_time": "2025-01-15T06:02:07.343508Z"
    }
   },
   "cell_type": "code",
   "source": [
    "from matplotlib import pyplot as plt\n",
    "import numpy as np\n",
    "PI = np.pi"
   ],
   "id": "d7ba3927338d25f1",
   "outputs": [],
   "execution_count": 16
  },
  {
   "metadata": {
    "ExecuteTime": {
     "end_time": "2025-01-15T06:02:07.682339Z",
     "start_time": "2025-01-15T06:02:07.359029Z"
    }
   },
   "cell_type": "code",
   "source": [
    "fig1 = plt.figure()\n",
    "ax1 = plt.axes(projection='3d')\n",
    "\n",
    "ax1.set_xlabel('v')\n",
    "ax1.set_ylabel('dis')\n",
    "ax1.set_zlabel('Reward')\n",
    "\n",
    "V, D = np.meshgrid(np.arange(10, 70, 0.1), np.arange(0, 700, 0.1))\n",
    "\n",
    "R = V*(1-np.exp(-1*D))*np.exp(-10*(V-10)/(D+0.01))/60\n",
    "\n",
    "ax1.plot_surface(V, D, R,cmap='rainbow')\n",
    "plt.show()"
   ],
   "id": "b01559ac8c7bcc5a",
   "outputs": [],
   "execution_count": 17
  },
  {
   "metadata": {
    "ExecuteTime": {
     "end_time": "2025-01-15T06:04:52.542618Z",
     "start_time": "2025-01-15T06:04:52.479753Z"
    }
   },
   "cell_type": "code",
   "source": [
    "fig2 = plt.figure()\n",
    "ax2 = plt.axes(projection='3d')\n",
    "\n",
    "ax2.set_xlabel('da')\n",
    "ax2.set_ylabel('kr')\n",
    "ax2.set_zlabel('Reward')\n",
    "\n",
    "da, kr = np.meshgrid(np.arange(-PI/2, PI/2, 0.01), np.arange(-0.01, 0.01, 0.0001))\n",
    "\n",
    "R = np.cos(da - kr*PI*8)\n",
    "\n",
    "ax2.plot_surface(da, kr, R,cmap='rainbow')\n",
    "plt.show()"
   ],
   "id": "a6d3a582abdac7c1",
   "outputs": [],
   "execution_count": 19
  }
 ],
 "metadata": {
  "kernelspec": {
   "display_name": "Python 3",
   "language": "python",
   "name": "python3"
  },
  "language_info": {
   "codemirror_mode": {
    "name": "ipython",
    "version": 2
   },
   "file_extension": ".py",
   "mimetype": "text/x-python",
   "name": "python",
   "nbconvert_exporter": "python",
   "pygments_lexer": "ipython2",
   "version": "2.7.6"
  }
 },
 "nbformat": 4,
 "nbformat_minor": 5
}
